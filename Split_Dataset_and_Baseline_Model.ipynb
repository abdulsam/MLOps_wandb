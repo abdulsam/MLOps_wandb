{
  "cells": [
    {
      "cell_type": "markdown",
      "metadata": {
        "id": "view-in-github",
        "colab_type": "text"
      },
      "source": [
        "<a href=\"https://colab.research.google.com/github/abdulsam/MLOps_wandb/blob/main/Split_Dataset_and_Baseline_Model.ipynb\" target=\"_parent\"><img src=\"https://colab.research.google.com/assets/colab-badge.svg\" alt=\"Open In Colab\"/></a>"
      ]
    },
    {
      "cell_type": "code",
      "execution_count": 1,
      "id": "dee477f2",
      "metadata": {
        "id": "dee477f2",
        "colab": {
          "base_uri": "https://localhost:8080/"
        },
        "outputId": "3110c7b9-a876-4dd2-ce71-dc157b5c64b3"
      },
      "outputs": [
        {
          "output_type": "stream",
          "name": "stdout",
          "text": [
            "--2023-08-03 14:34:09--  https://raw.githubusercontent.com/wandb/edu/main/mlops-001/lesson1/requirements.txt\n",
            "Resolving raw.githubusercontent.com (raw.githubusercontent.com)... 185.199.108.133, 185.199.109.133, 185.199.110.133, ...\n",
            "Connecting to raw.githubusercontent.com (raw.githubusercontent.com)|185.199.108.133|:443... connected.\n",
            "HTTP request sent, awaiting response... 200 OK\n",
            "Length: 82 [text/plain]\n",
            "Saving to: ‘requirements.txt’\n",
            "\n",
            "\rrequirements.txt      0%[                    ]       0  --.-KB/s               \rrequirements.txt    100%[===================>]      82  --.-KB/s    in 0s      \n",
            "\n",
            "2023-08-03 14:34:09 (4.03 MB/s) - ‘requirements.txt’ saved [82/82]\n",
            "\n",
            "--2023-08-03 14:34:09--  https://raw.githubusercontent.com/wandb/edu/main/mlops-001/lesson1/params.py\n",
            "Resolving raw.githubusercontent.com (raw.githubusercontent.com)... 185.199.108.133, 185.199.109.133, 185.199.110.133, ...\n",
            "Connecting to raw.githubusercontent.com (raw.githubusercontent.com)|185.199.108.133|:443... connected.\n",
            "HTTP request sent, awaiting response... 200 OK\n",
            "Length: 295 [text/plain]\n",
            "Saving to: ‘params.py’\n",
            "\n",
            "params.py           100%[===================>]     295  --.-KB/s    in 0s      \n",
            "\n",
            "2023-08-03 14:34:09 (25.8 MB/s) - ‘params.py’ saved [295/295]\n",
            "\n",
            "--2023-08-03 14:34:09--  https://raw.githubusercontent.com/wandb/edu/main/mlops-001/lesson1/utils.py\n",
            "Resolving raw.githubusercontent.com (raw.githubusercontent.com)... 185.199.109.133, 185.199.108.133, 185.199.111.133, ...\n",
            "Connecting to raw.githubusercontent.com (raw.githubusercontent.com)|185.199.109.133|:443... connected.\n",
            "HTTP request sent, awaiting response... 200 OK\n",
            "Length: 6721 (6.6K) [text/plain]\n",
            "Saving to: ‘utils.py’\n",
            "\n",
            "utils.py            100%[===================>]   6.56K  --.-KB/s    in 0s      \n",
            "\n",
            "2023-08-03 14:34:10 (87.8 MB/s) - ‘utils.py’ saved [6721/6721]\n",
            "\n",
            "Requirement already satisfied: torch>=1.9 in /usr/local/lib/python3.10/dist-packages (from -r requirements.txt (line 1)) (2.0.1+cu118)\n",
            "Requirement already satisfied: fastai>=2.7 in /usr/local/lib/python3.10/dist-packages (from -r requirements.txt (line 2)) (2.7.12)\n",
            "Requirement already satisfied: matplotlib in /usr/local/lib/python3.10/dist-packages (from -r requirements.txt (line 3)) (3.7.1)\n",
            "Requirement already satisfied: numpy in /usr/local/lib/python3.10/dist-packages (from -r requirements.txt (line 4)) (1.22.4)\n",
            "Requirement already satisfied: pandas in /usr/local/lib/python3.10/dist-packages (from -r requirements.txt (line 5)) (1.5.3)\n",
            "Requirement already satisfied: scikit-learn in /usr/local/lib/python3.10/dist-packages (from -r requirements.txt (line 6)) (1.2.2)\n",
            "Requirement already satisfied: torchvision in /usr/local/lib/python3.10/dist-packages (from -r requirements.txt (line 7)) (0.15.2+cu118)\n",
            "Requirement already satisfied: tqdm in /usr/local/lib/python3.10/dist-packages (from -r requirements.txt (line 8)) (4.65.0)\n",
            "Collecting wandb (from -r requirements.txt (line 9))\n",
            "  Downloading wandb-0.15.8-py3-none-any.whl (2.1 MB)\n",
            "\u001b[2K     \u001b[90m━━━━━━━━━━━━━━━━━━━━━━━━━━━━━━━━━━━━━━━━\u001b[0m \u001b[32m2.1/2.1 MB\u001b[0m \u001b[31m6.8 MB/s\u001b[0m eta \u001b[36m0:00:00\u001b[0m\n",
            "\u001b[?25hRequirement already satisfied: filelock in /usr/local/lib/python3.10/dist-packages (from torch>=1.9->-r requirements.txt (line 1)) (3.12.2)\n",
            "Requirement already satisfied: typing-extensions in /usr/local/lib/python3.10/dist-packages (from torch>=1.9->-r requirements.txt (line 1)) (4.7.1)\n",
            "Requirement already satisfied: sympy in /usr/local/lib/python3.10/dist-packages (from torch>=1.9->-r requirements.txt (line 1)) (1.11.1)\n",
            "Requirement already satisfied: networkx in /usr/local/lib/python3.10/dist-packages (from torch>=1.9->-r requirements.txt (line 1)) (3.1)\n",
            "Requirement already satisfied: jinja2 in /usr/local/lib/python3.10/dist-packages (from torch>=1.9->-r requirements.txt (line 1)) (3.1.2)\n",
            "Requirement already satisfied: triton==2.0.0 in /usr/local/lib/python3.10/dist-packages (from torch>=1.9->-r requirements.txt (line 1)) (2.0.0)\n",
            "Requirement already satisfied: cmake in /usr/local/lib/python3.10/dist-packages (from triton==2.0.0->torch>=1.9->-r requirements.txt (line 1)) (3.25.2)\n",
            "Requirement already satisfied: lit in /usr/local/lib/python3.10/dist-packages (from triton==2.0.0->torch>=1.9->-r requirements.txt (line 1)) (16.0.6)\n",
            "Requirement already satisfied: pip in /usr/local/lib/python3.10/dist-packages (from fastai>=2.7->-r requirements.txt (line 2)) (23.1.2)\n",
            "Requirement already satisfied: packaging in /usr/local/lib/python3.10/dist-packages (from fastai>=2.7->-r requirements.txt (line 2)) (23.1)\n",
            "Requirement already satisfied: fastdownload<2,>=0.0.5 in /usr/local/lib/python3.10/dist-packages (from fastai>=2.7->-r requirements.txt (line 2)) (0.0.7)\n",
            "Requirement already satisfied: fastcore<1.6,>=1.5.29 in /usr/local/lib/python3.10/dist-packages (from fastai>=2.7->-r requirements.txt (line 2)) (1.5.29)\n",
            "Requirement already satisfied: requests in /usr/local/lib/python3.10/dist-packages (from fastai>=2.7->-r requirements.txt (line 2)) (2.27.1)\n",
            "Requirement already satisfied: pyyaml in /usr/local/lib/python3.10/dist-packages (from fastai>=2.7->-r requirements.txt (line 2)) (6.0.1)\n",
            "Requirement already satisfied: fastprogress>=0.2.4 in /usr/local/lib/python3.10/dist-packages (from fastai>=2.7->-r requirements.txt (line 2)) (1.0.3)\n",
            "Requirement already satisfied: pillow>6.0.0 in /usr/local/lib/python3.10/dist-packages (from fastai>=2.7->-r requirements.txt (line 2)) (9.4.0)\n",
            "Requirement already satisfied: scipy in /usr/local/lib/python3.10/dist-packages (from fastai>=2.7->-r requirements.txt (line 2)) (1.10.1)\n",
            "Requirement already satisfied: spacy<4 in /usr/local/lib/python3.10/dist-packages (from fastai>=2.7->-r requirements.txt (line 2)) (3.5.4)\n",
            "Requirement already satisfied: contourpy>=1.0.1 in /usr/local/lib/python3.10/dist-packages (from matplotlib->-r requirements.txt (line 3)) (1.1.0)\n",
            "Requirement already satisfied: cycler>=0.10 in /usr/local/lib/python3.10/dist-packages (from matplotlib->-r requirements.txt (line 3)) (0.11.0)\n",
            "Requirement already satisfied: fonttools>=4.22.0 in /usr/local/lib/python3.10/dist-packages (from matplotlib->-r requirements.txt (line 3)) (4.41.1)\n",
            "Requirement already satisfied: kiwisolver>=1.0.1 in /usr/local/lib/python3.10/dist-packages (from matplotlib->-r requirements.txt (line 3)) (1.4.4)\n",
            "Requirement already satisfied: pyparsing>=2.3.1 in /usr/local/lib/python3.10/dist-packages (from matplotlib->-r requirements.txt (line 3)) (3.1.0)\n",
            "Requirement already satisfied: python-dateutil>=2.7 in /usr/local/lib/python3.10/dist-packages (from matplotlib->-r requirements.txt (line 3)) (2.8.2)\n",
            "Requirement already satisfied: pytz>=2020.1 in /usr/local/lib/python3.10/dist-packages (from pandas->-r requirements.txt (line 5)) (2022.7.1)\n",
            "Requirement already satisfied: joblib>=1.1.1 in /usr/local/lib/python3.10/dist-packages (from scikit-learn->-r requirements.txt (line 6)) (1.3.1)\n",
            "Requirement already satisfied: threadpoolctl>=2.0.0 in /usr/local/lib/python3.10/dist-packages (from scikit-learn->-r requirements.txt (line 6)) (3.2.0)\n",
            "Requirement already satisfied: Click!=8.0.0,>=7.1 in /usr/local/lib/python3.10/dist-packages (from wandb->-r requirements.txt (line 9)) (8.1.6)\n",
            "Collecting GitPython!=3.1.29,>=1.0.0 (from wandb->-r requirements.txt (line 9))\n",
            "  Downloading GitPython-3.1.32-py3-none-any.whl (188 kB)\n",
            "\u001b[2K     \u001b[90m━━━━━━━━━━━━━━━━━━━━━━━━━━━━━━━━━━━━━━\u001b[0m \u001b[32m188.5/188.5 kB\u001b[0m \u001b[31m14.4 MB/s\u001b[0m eta \u001b[36m0:00:00\u001b[0m\n",
            "\u001b[?25hRequirement already satisfied: psutil>=5.0.0 in /usr/local/lib/python3.10/dist-packages (from wandb->-r requirements.txt (line 9)) (5.9.5)\n",
            "Collecting sentry-sdk>=1.0.0 (from wandb->-r requirements.txt (line 9))\n",
            "  Downloading sentry_sdk-1.29.2-py2.py3-none-any.whl (215 kB)\n",
            "\u001b[2K     \u001b[90m━━━━━━━━━━━━━━━━━━━━━━━━━━━━━━━━━━━━━━\u001b[0m \u001b[32m215.6/215.6 kB\u001b[0m \u001b[31m11.2 MB/s\u001b[0m eta \u001b[36m0:00:00\u001b[0m\n",
            "\u001b[?25hCollecting docker-pycreds>=0.4.0 (from wandb->-r requirements.txt (line 9))\n",
            "  Downloading docker_pycreds-0.4.0-py2.py3-none-any.whl (9.0 kB)\n",
            "Collecting pathtools (from wandb->-r requirements.txt (line 9))\n",
            "  Downloading pathtools-0.1.2.tar.gz (11 kB)\n",
            "  Preparing metadata (setup.py) ... \u001b[?25l\u001b[?25hdone\n",
            "Collecting setproctitle (from wandb->-r requirements.txt (line 9))\n",
            "  Downloading setproctitle-1.3.2-cp310-cp310-manylinux_2_5_x86_64.manylinux1_x86_64.manylinux_2_17_x86_64.manylinux2014_x86_64.whl (30 kB)\n",
            "Requirement already satisfied: setuptools in /usr/local/lib/python3.10/dist-packages (from wandb->-r requirements.txt (line 9)) (67.7.2)\n",
            "Requirement already satisfied: appdirs>=1.4.3 in /usr/local/lib/python3.10/dist-packages (from wandb->-r requirements.txt (line 9)) (1.4.4)\n",
            "Requirement already satisfied: protobuf!=4.21.0,<5,>=3.19.0 in /usr/local/lib/python3.10/dist-packages (from wandb->-r requirements.txt (line 9)) (3.20.3)\n",
            "Requirement already satisfied: six>=1.4.0 in /usr/local/lib/python3.10/dist-packages (from docker-pycreds>=0.4.0->wandb->-r requirements.txt (line 9)) (1.16.0)\n",
            "Collecting gitdb<5,>=4.0.1 (from GitPython!=3.1.29,>=1.0.0->wandb->-r requirements.txt (line 9))\n",
            "  Downloading gitdb-4.0.10-py3-none-any.whl (62 kB)\n",
            "\u001b[2K     \u001b[90m━━━━━━━━━━━━━━━━━━━━━━━━━━━━━━━━━━━━━━━━\u001b[0m \u001b[32m62.7/62.7 kB\u001b[0m \u001b[31m7.6 MB/s\u001b[0m eta \u001b[36m0:00:00\u001b[0m\n",
            "\u001b[?25hRequirement already satisfied: urllib3<1.27,>=1.21.1 in /usr/local/lib/python3.10/dist-packages (from requests->fastai>=2.7->-r requirements.txt (line 2)) (1.26.16)\n",
            "Requirement already satisfied: certifi>=2017.4.17 in /usr/local/lib/python3.10/dist-packages (from requests->fastai>=2.7->-r requirements.txt (line 2)) (2023.7.22)\n",
            "Requirement already satisfied: charset-normalizer~=2.0.0 in /usr/local/lib/python3.10/dist-packages (from requests->fastai>=2.7->-r requirements.txt (line 2)) (2.0.12)\n",
            "Requirement already satisfied: idna<4,>=2.5 in /usr/local/lib/python3.10/dist-packages (from requests->fastai>=2.7->-r requirements.txt (line 2)) (3.4)\n",
            "Requirement already satisfied: spacy-legacy<3.1.0,>=3.0.11 in /usr/local/lib/python3.10/dist-packages (from spacy<4->fastai>=2.7->-r requirements.txt (line 2)) (3.0.12)\n",
            "Requirement already satisfied: spacy-loggers<2.0.0,>=1.0.0 in /usr/local/lib/python3.10/dist-packages (from spacy<4->fastai>=2.7->-r requirements.txt (line 2)) (1.0.4)\n",
            "Requirement already satisfied: murmurhash<1.1.0,>=0.28.0 in /usr/local/lib/python3.10/dist-packages (from spacy<4->fastai>=2.7->-r requirements.txt (line 2)) (1.0.9)\n",
            "Requirement already satisfied: cymem<2.1.0,>=2.0.2 in /usr/local/lib/python3.10/dist-packages (from spacy<4->fastai>=2.7->-r requirements.txt (line 2)) (2.0.7)\n",
            "Requirement already satisfied: preshed<3.1.0,>=3.0.2 in /usr/local/lib/python3.10/dist-packages (from spacy<4->fastai>=2.7->-r requirements.txt (line 2)) (3.0.8)\n",
            "Requirement already satisfied: thinc<8.2.0,>=8.1.8 in /usr/local/lib/python3.10/dist-packages (from spacy<4->fastai>=2.7->-r requirements.txt (line 2)) (8.1.10)\n",
            "Requirement already satisfied: wasabi<1.2.0,>=0.9.1 in /usr/local/lib/python3.10/dist-packages (from spacy<4->fastai>=2.7->-r requirements.txt (line 2)) (1.1.2)\n",
            "Requirement already satisfied: srsly<3.0.0,>=2.4.3 in /usr/local/lib/python3.10/dist-packages (from spacy<4->fastai>=2.7->-r requirements.txt (line 2)) (2.4.7)\n",
            "Requirement already satisfied: catalogue<2.1.0,>=2.0.6 in /usr/local/lib/python3.10/dist-packages (from spacy<4->fastai>=2.7->-r requirements.txt (line 2)) (2.0.9)\n",
            "Requirement already satisfied: typer<0.10.0,>=0.3.0 in /usr/local/lib/python3.10/dist-packages (from spacy<4->fastai>=2.7->-r requirements.txt (line 2)) (0.9.0)\n",
            "Requirement already satisfied: pathy>=0.10.0 in /usr/local/lib/python3.10/dist-packages (from spacy<4->fastai>=2.7->-r requirements.txt (line 2)) (0.10.2)\n",
            "Requirement already satisfied: smart-open<7.0.0,>=5.2.1 in /usr/local/lib/python3.10/dist-packages (from spacy<4->fastai>=2.7->-r requirements.txt (line 2)) (6.3.0)\n",
            "Requirement already satisfied: pydantic!=1.8,!=1.8.1,<1.11.0,>=1.7.4 in /usr/local/lib/python3.10/dist-packages (from spacy<4->fastai>=2.7->-r requirements.txt (line 2)) (1.10.12)\n",
            "Requirement already satisfied: langcodes<4.0.0,>=3.2.0 in /usr/local/lib/python3.10/dist-packages (from spacy<4->fastai>=2.7->-r requirements.txt (line 2)) (3.3.0)\n",
            "Requirement already satisfied: MarkupSafe>=2.0 in /usr/local/lib/python3.10/dist-packages (from jinja2->torch>=1.9->-r requirements.txt (line 1)) (2.1.3)\n",
            "Requirement already satisfied: mpmath>=0.19 in /usr/local/lib/python3.10/dist-packages (from sympy->torch>=1.9->-r requirements.txt (line 1)) (1.3.0)\n",
            "Collecting smmap<6,>=3.0.1 (from gitdb<5,>=4.0.1->GitPython!=3.1.29,>=1.0.0->wandb->-r requirements.txt (line 9))\n",
            "  Downloading smmap-5.0.0-py3-none-any.whl (24 kB)\n",
            "Requirement already satisfied: blis<0.8.0,>=0.7.8 in /usr/local/lib/python3.10/dist-packages (from thinc<8.2.0,>=8.1.8->spacy<4->fastai>=2.7->-r requirements.txt (line 2)) (0.7.10)\n",
            "Requirement already satisfied: confection<1.0.0,>=0.0.1 in /usr/local/lib/python3.10/dist-packages (from thinc<8.2.0,>=8.1.8->spacy<4->fastai>=2.7->-r requirements.txt (line 2)) (0.1.0)\n",
            "Building wheels for collected packages: pathtools\n",
            "  Building wheel for pathtools (setup.py) ... \u001b[?25l\u001b[?25hdone\n",
            "  Created wheel for pathtools: filename=pathtools-0.1.2-py3-none-any.whl size=8791 sha256=3036d142eefcca831e196cd4461645f3819c178003239f795b6b83eaa418e06e\n",
            "  Stored in directory: /root/.cache/pip/wheels/e7/f3/22/152153d6eb222ee7a56ff8617d80ee5207207a8c00a7aab794\n",
            "Successfully built pathtools\n",
            "Installing collected packages: pathtools, smmap, setproctitle, sentry-sdk, docker-pycreds, gitdb, GitPython, wandb\n",
            "Successfully installed GitPython-3.1.32 docker-pycreds-0.4.0 gitdb-4.0.10 pathtools-0.1.2 sentry-sdk-1.29.2 setproctitle-1.3.2 smmap-5.0.0 wandb-0.15.8\n"
          ]
        }
      ],
      "source": [
        "# Install dependencies (run once)\n",
        "!wget https://raw.githubusercontent.com/wandb/edu/main/mlops-001/lesson1/requirements.txt\n",
        "!wget https://raw.githubusercontent.com/wandb/edu/main/mlops-001/lesson1/params.py\n",
        "!wget https://raw.githubusercontent.com/wandb/edu/main/mlops-001/lesson1/utils.py\n",
        "!pip install -r requirements.txt"
      ]
    },
    {
      "cell_type": "code",
      "source": [
        "WANDB_PROJECT = \"MLOps\"\n",
        "ENTITY = None # set this to team name if working in a team\n",
        "BDD_CLASSES = {i:c for i,c in enumerate(['background', 'road', 'traffic light', 'traffic sign', 'person', 'vehicle', 'bicycle'])}\n",
        "RAW_DATA_AT = 'bdd_simple_1k'\n",
        "PROCESSED_DATA_AT = 'bdd_simple_1k_split'"
      ],
      "metadata": {
        "id": "DGtVu-bB14cn"
      },
      "id": "DGtVu-bB14cn",
      "execution_count": 3,
      "outputs": []
    },
    {
      "cell_type": "markdown",
      "id": "e6cc5437-1a17-4738-a3c7-f1959324f4ed",
      "metadata": {
        "id": "e6cc5437-1a17-4738-a3c7-f1959324f4ed"
      },
      "source": [
        "# Data preparation\n",
        "\n",
        "<!--- @wandbcode{course-lesson1} -->\n",
        "\n",
        "In this notebook we will prepare the data to later train our deep learning model. To do so,\n",
        "\n",
        "- we will start a new W&B `run` and use our raw data artifact\n",
        "- split the data and save the splits into a new W&B Artifact\n",
        "- join information about the split with our EDA Table"
      ]
    },
    {
      "cell_type": "code",
      "execution_count": 4,
      "id": "c8018ee4-8f0f-4e1d-a39d-d005bc9b4591",
      "metadata": {
        "id": "c8018ee4-8f0f-4e1d-a39d-d005bc9b4591"
      },
      "outputs": [],
      "source": [
        "import os, warnings\n",
        "import wandb\n",
        "\n",
        "import pandas as pd\n",
        "from fastai.vision.all import *\n",
        "from sklearn.model_selection import StratifiedGroupKFold\n",
        "\n",
        "import params\n",
        "warnings.filterwarnings('ignore')"
      ]
    },
    {
      "cell_type": "code",
      "execution_count": null,
      "id": "423709e6-1f8c-4b90-8a7b-6ed6c05492ca",
      "metadata": {
        "id": "423709e6-1f8c-4b90-8a7b-6ed6c05492ca",
        "colab": {
          "base_uri": "https://localhost:8080/",
          "height": 209
        },
        "outputId": "bb58b9c4-733d-4335-bcda-9fb383863171"
      },
      "outputs": [
        {
          "output_type": "display_data",
          "data": {
            "text/plain": [
              "<IPython.core.display.HTML object>"
            ],
            "text/html": [
              "Finishing last run (ID:7xkrdfgb) before initializing another..."
            ]
          },
          "metadata": {}
        },
        {
          "output_type": "display_data",
          "data": {
            "text/plain": [
              "<IPython.core.display.HTML object>"
            ],
            "text/html": [
              "Waiting for W&B process to finish... <strong style=\"color:green\">(success).</strong>"
            ]
          },
          "metadata": {}
        },
        {
          "output_type": "display_data",
          "data": {
            "text/plain": [
              "<IPython.core.display.HTML object>"
            ],
            "text/html": [
              " View run <strong style=\"color:#cdcd00\">prime-planet-2</strong> at: <a href='https://wandb.ai/abdussamad/mlops-course-001/runs/7xkrdfgb' target=\"_blank\">https://wandb.ai/abdussamad/mlops-course-001/runs/7xkrdfgb</a><br/>Synced 4 W&B file(s), 0 media file(s), 0 artifact file(s) and 0 other file(s)"
            ]
          },
          "metadata": {}
        },
        {
          "output_type": "display_data",
          "data": {
            "text/plain": [
              "<IPython.core.display.HTML object>"
            ],
            "text/html": [
              "Find logs at: <code>./wandb/run-20230801_112236-7xkrdfgb/logs</code>"
            ]
          },
          "metadata": {}
        },
        {
          "output_type": "display_data",
          "data": {
            "text/plain": [
              "<IPython.core.display.HTML object>"
            ],
            "text/html": [
              "Successfully finished last run (ID:7xkrdfgb). Initializing new run:<br/>"
            ]
          },
          "metadata": {}
        },
        {
          "output_type": "display_data",
          "data": {
            "text/plain": [
              "<IPython.core.display.HTML object>"
            ],
            "text/html": [
              "Tracking run with wandb version 0.15.7"
            ]
          },
          "metadata": {}
        },
        {
          "output_type": "display_data",
          "data": {
            "text/plain": [
              "<IPython.core.display.HTML object>"
            ],
            "text/html": [
              "Run data is saved locally in <code>/content/wandb/run-20230801_112455-dngk3qfh</code>"
            ]
          },
          "metadata": {}
        },
        {
          "output_type": "display_data",
          "data": {
            "text/plain": [
              "<IPython.core.display.HTML object>"
            ],
            "text/html": [
              "Syncing run <strong><a href='https://wandb.ai/abdussamad/MLOps/runs/dngk3qfh' target=\"_blank\">stilted-flower-3</a></strong> to <a href='https://wandb.ai/abdussamad/MLOps' target=\"_blank\">Weights & Biases</a> (<a href='https://wandb.me/run' target=\"_blank\">docs</a>)<br/>"
            ]
          },
          "metadata": {}
        },
        {
          "output_type": "display_data",
          "data": {
            "text/plain": [
              "<IPython.core.display.HTML object>"
            ],
            "text/html": [
              " View project at <a href='https://wandb.ai/abdussamad/MLOps' target=\"_blank\">https://wandb.ai/abdussamad/MLOps</a>"
            ]
          },
          "metadata": {}
        },
        {
          "output_type": "display_data",
          "data": {
            "text/plain": [
              "<IPython.core.display.HTML object>"
            ],
            "text/html": [
              " View run at <a href='https://wandb.ai/abdussamad/MLOps/runs/dngk3qfh' target=\"_blank\">https://wandb.ai/abdussamad/MLOps/runs/dngk3qfh</a>"
            ]
          },
          "metadata": {}
        }
      ],
      "source": [
        "run = wandb.init(project=WANDB_PROJECT, entity=ENTITY, job_type=\"data_split\")"
      ]
    },
    {
      "cell_type": "markdown",
      "id": "99b9419f-e0cc-4e57-b0f4-e9273fec996b",
      "metadata": {
        "id": "99b9419f-e0cc-4e57-b0f4-e9273fec996b"
      },
      "source": [
        "Let's use artifact we previously saved to W&B (we're storing artifact names and other global parameters in `params`)."
      ]
    },
    {
      "cell_type": "code",
      "execution_count": null,
      "id": "7841e7a1-188e-4021-9c2b-b662b7a13a08",
      "metadata": {
        "id": "7841e7a1-188e-4021-9c2b-b662b7a13a08",
        "colab": {
          "base_uri": "https://localhost:8080/"
        },
        "outputId": "61991763-d4ec-4c87-ce14-4c521d00ada0"
      },
      "outputs": [
        {
          "output_type": "stream",
          "name": "stderr",
          "text": [
            "\u001b[34m\u001b[1mwandb\u001b[0m: Downloading large artifact bdd_simple_1k:latest, 813.75MB. 4007 files... \n",
            "\u001b[34m\u001b[1mwandb\u001b[0m:   4007 of 4007 files downloaded.  \n",
            "Done. 0:0:40.4\n"
          ]
        }
      ],
      "source": [
        "raw_data_at = run.use_artifact(f'{RAW_DATA_AT}:latest')\n",
        "path = Path(raw_data_at.download())"
      ]
    },
    {
      "cell_type": "code",
      "execution_count": null,
      "id": "160fcb5d-3a3b-40a6-b131-60b33ea3b530",
      "metadata": {
        "id": "160fcb5d-3a3b-40a6-b131-60b33ea3b530",
        "colab": {
          "base_uri": "https://localhost:8080/"
        },
        "outputId": "c832235a-64c9-4d48-8041-bfabb6e12d27"
      },
      "outputs": [
        {
          "output_type": "execute_result",
          "data": {
            "text/plain": [
              "(#5) [Path('artifacts/bdd_simple_1k:latest/images'),Path('artifacts/bdd_simple_1k:latest/eda_table.table.json'),Path('artifacts/bdd_simple_1k:latest/LICENSE.txt'),Path('artifacts/bdd_simple_1k:latest/labels'),Path('artifacts/bdd_simple_1k:latest/media')]"
            ]
          },
          "metadata": {},
          "execution_count": 14
        }
      ],
      "source": [
        "path.ls()"
      ]
    },
    {
      "cell_type": "markdown",
      "id": "4fbbb8be-49cc-46c2-b563-b90d14892708",
      "metadata": {
        "id": "4fbbb8be-49cc-46c2-b563-b90d14892708"
      },
      "source": [
        "To split data between training, testing and validation, we need file names, groups (derived from the file name) and target (here we use our rare class bicycle for stratification). We previously saved these columns to EDA table, so let's retrieve it from the table now."
      ]
    },
    {
      "cell_type": "code",
      "execution_count": null,
      "id": "156ac385-610f-43c8-ab3a-8ab91a1cbc06",
      "metadata": {
        "id": "156ac385-610f-43c8-ab3a-8ab91a1cbc06"
      },
      "outputs": [],
      "source": [
        "fnames = os.listdir(path/'images')\n",
        "groups = [s.split('-')[0] for s in fnames]"
      ]
    },
    {
      "cell_type": "code",
      "execution_count": null,
      "id": "42d93918-c51e-4501-9b2a-9ea87ae1184a",
      "metadata": {
        "id": "42d93918-c51e-4501-9b2a-9ea87ae1184a",
        "colab": {
          "base_uri": "https://localhost:8080/"
        },
        "outputId": "c0626d17-8f7b-41cf-e548-83aa87a18a6a"
      },
      "outputs": [
        {
          "output_type": "stream",
          "name": "stderr",
          "text": [
            "\u001b[34m\u001b[1mwandb\u001b[0m: Downloading large artifact bdd_simple_1k:latest, 813.75MB. 4007 files... \n",
            "\u001b[34m\u001b[1mwandb\u001b[0m:   4007 of 4007 files downloaded.  \n",
            "Done. 0:0:12.5\n"
          ]
        }
      ],
      "source": [
        "orig_eda_table = raw_data_at.get(\"eda_table\")"
      ]
    },
    {
      "cell_type": "code",
      "execution_count": null,
      "id": "6a31eef6-725a-4eaa-9bb4-bec9aeaf4414",
      "metadata": {
        "id": "6a31eef6-725a-4eaa-9bb4-bec9aeaf4414"
      },
      "outputs": [],
      "source": [
        "y = orig_eda_table.get_column('bicycle')"
      ]
    },
    {
      "cell_type": "markdown",
      "id": "735730ed-e4c0-4ca6-82be-22a517cd74bc",
      "metadata": {
        "id": "735730ed-e4c0-4ca6-82be-22a517cd74bc"
      },
      "source": [
        "Now we will split the data into train (80%), validation (10%) and test (10%) sets. As we do that, we need to be careful to:\n",
        "\n",
        "- *avoid leakage*: for that reason we are grouping data according to video identifier (we want to make sure our model can generalize to new cars or video frames)\n",
        "- handle the *label imbalance*: for that reason we stratify data with our target column\n",
        "\n",
        "We will use sklearn's `StratifiedGroupKFold` to split the data into 10 folds and assign 1 fold for test, 1 for validation and the rest for training."
      ]
    },
    {
      "cell_type": "code",
      "execution_count": null,
      "id": "1af79361-0aea-4ecd-bfaf-3bc034286cf5",
      "metadata": {
        "id": "1af79361-0aea-4ecd-bfaf-3bc034286cf5"
      },
      "outputs": [],
      "source": [
        "df = pd.DataFrame()\n",
        "df['File_Name'] = fnames\n",
        "df['fold'] = -1"
      ]
    },
    {
      "cell_type": "code",
      "execution_count": null,
      "id": "f09ceb74-d7dc-4a3b-9bca-7a30f3a1de23",
      "metadata": {
        "id": "f09ceb74-d7dc-4a3b-9bca-7a30f3a1de23"
      },
      "outputs": [],
      "source": [
        "cv = StratifiedGroupKFold(n_splits=10)\n",
        "for i, (train_idxs, test_idxs) in enumerate(cv.split(fnames, y, groups)):\n",
        "    df.loc[test_idxs, ['fold']] = i"
      ]
    },
    {
      "cell_type": "code",
      "execution_count": null,
      "id": "ced2899d-dc7e-4769-92e5-f0eaf585a4cf",
      "metadata": {
        "id": "ced2899d-dc7e-4769-92e5-f0eaf585a4cf",
        "colab": {
          "base_uri": "https://localhost:8080/"
        },
        "outputId": "cca046cd-1adf-4881-bf88-333579eb7212"
      },
      "outputs": [
        {
          "output_type": "execute_result",
          "data": {
            "text/plain": [
              "train    800\n",
              "test     100\n",
              "valid    100\n",
              "Name: Stage, dtype: int64"
            ]
          },
          "metadata": {},
          "execution_count": 33
        }
      ],
      "source": [
        "df['Stage'] = 'train'\n",
        "df.loc[df.fold == 0, ['Stage']] = 'test'\n",
        "df.loc[df.fold == 1, ['Stage']] = 'valid'\n",
        "del df['fold']\n",
        "df.Stage.value_counts()"
      ]
    },
    {
      "cell_type": "code",
      "execution_count": null,
      "id": "3b322c8d-dab6-4f21-8b0b-22fac2de3aae",
      "metadata": {
        "id": "3b322c8d-dab6-4f21-8b0b-22fac2de3aae"
      },
      "outputs": [],
      "source": [
        "df.to_csv('data_split.csv', index=False)"
      ]
    },
    {
      "cell_type": "markdown",
      "id": "b7fd8322-a52b-4f69-a716-04ce4b4ffb5b",
      "metadata": {
        "id": "b7fd8322-a52b-4f69-a716-04ce4b4ffb5b"
      },
      "source": [
        "We will now create a new artifact and add our data there."
      ]
    },
    {
      "cell_type": "code",
      "execution_count": null,
      "id": "7369b2a4-6c0b-44fb-8850-c8bfebd105ef",
      "metadata": {
        "id": "7369b2a4-6c0b-44fb-8850-c8bfebd105ef"
      },
      "outputs": [],
      "source": [
        "processed_data_at = wandb.Artifact(params.PROCESSED_DATA_AT, type=\"split_data\")"
      ]
    },
    {
      "cell_type": "code",
      "execution_count": null,
      "id": "b264b216-ef03-4417-88df-6fc27865c1f5",
      "metadata": {
        "id": "b264b216-ef03-4417-88df-6fc27865c1f5",
        "colab": {
          "base_uri": "https://localhost:8080/"
        },
        "outputId": "8969525e-fec0-454a-8621-73f628a86247"
      },
      "outputs": [
        {
          "output_type": "stream",
          "name": "stderr",
          "text": [
            "\u001b[34m\u001b[1mwandb\u001b[0m: Adding directory to artifact (./artifacts/bdd_simple_1k:latest)... Done. 10.6s\n"
          ]
        }
      ],
      "source": [
        "processed_data_at.add_file('data_split.csv')\n",
        "processed_data_at.add_dir(path)"
      ]
    },
    {
      "cell_type": "markdown",
      "id": "7df4949c-c9de-4e0b-990e-58e98b2121e3",
      "metadata": {
        "id": "7df4949c-c9de-4e0b-990e-58e98b2121e3"
      },
      "source": [
        "Finally, the split information may be relevant for our analyses - rather than uploading images again, we will save the split information to a new table and join it with EDA table we created previously."
      ]
    },
    {
      "cell_type": "code",
      "execution_count": null,
      "id": "818a359a-6b54-4f65-b5d9-732bbe5eb91a",
      "metadata": {
        "id": "818a359a-6b54-4f65-b5d9-732bbe5eb91a"
      },
      "outputs": [],
      "source": [
        "data_split_table = wandb.Table(dataframe=df[['File_Name', 'Stage']])"
      ]
    },
    {
      "cell_type": "code",
      "execution_count": null,
      "id": "eedc9255-2ee3-4015-bdd3-a8449a120895",
      "metadata": {
        "id": "eedc9255-2ee3-4015-bdd3-a8449a120895"
      },
      "outputs": [],
      "source": [
        "join_table = wandb.JoinedTable(orig_eda_table, data_split_table, \"File_Name\")"
      ]
    },
    {
      "cell_type": "markdown",
      "id": "998b2369-d11b-4fef-a709-69cdc333ee1b",
      "metadata": {
        "id": "998b2369-d11b-4fef-a709-69cdc333ee1b"
      },
      "source": [
        "Let's add it to our artifact, log it and finish our `run`."
      ]
    },
    {
      "cell_type": "code",
      "execution_count": null,
      "id": "42157919-05b2-4e28-8dc4-350160c0ae53",
      "metadata": {
        "id": "42157919-05b2-4e28-8dc4-350160c0ae53",
        "colab": {
          "base_uri": "https://localhost:8080/"
        },
        "outputId": "3b66b269-1fcc-445e-add7-044242abf745"
      },
      "outputs": [
        {
          "output_type": "execute_result",
          "data": {
            "text/plain": [
              "<wandb.sdk.artifacts.artifact_manifest_entry.ArtifactManifestEntry at 0x7efbc4a28340>"
            ]
          },
          "metadata": {},
          "execution_count": 40
        }
      ],
      "source": [
        "processed_data_at.add(join_table, \"eda_table_data_split\")"
      ]
    },
    {
      "cell_type": "code",
      "execution_count": null,
      "id": "1a6745c3-1ab6-4ebf-8f89-07d6da09fe65",
      "metadata": {
        "id": "1a6745c3-1ab6-4ebf-8f89-07d6da09fe65",
        "colab": {
          "base_uri": "https://localhost:8080/",
          "height": 104
        },
        "outputId": "0e99b549-9244-4f6e-c75a-0ce0f943e46d"
      },
      "outputs": [
        {
          "output_type": "display_data",
          "data": {
            "text/plain": [
              "<IPython.core.display.HTML object>"
            ],
            "text/html": [
              "Waiting for W&B process to finish... <strong style=\"color:green\">(success).</strong>"
            ]
          },
          "metadata": {}
        },
        {
          "output_type": "display_data",
          "data": {
            "text/plain": [
              "<IPython.core.display.HTML object>"
            ],
            "text/html": [
              " View run <strong style=\"color:#cdcd00\">stilted-flower-3</strong> at: <a href='https://wandb.ai/abdussamad/MLOps/runs/dngk3qfh' target=\"_blank\">https://wandb.ai/abdussamad/MLOps/runs/dngk3qfh</a><br/> View job at <a href='https://wandb.ai/abdussamad/MLOps/jobs/QXJ0aWZhY3RDb2xsZWN0aW9uOjg3MDk5OTk3/version_details/v0' target=\"_blank\">https://wandb.ai/abdussamad/MLOps/jobs/QXJ0aWZhY3RDb2xsZWN0aW9uOjg3MDk5OTk3/version_details/v0</a><br/>Synced 5 W&B file(s), 0 media file(s), 4042 artifact file(s) and 1 other file(s)"
            ]
          },
          "metadata": {}
        },
        {
          "output_type": "display_data",
          "data": {
            "text/plain": [
              "<IPython.core.display.HTML object>"
            ],
            "text/html": [
              "Find logs at: <code>./wandb/run-20230801_112455-dngk3qfh/logs</code>"
            ]
          },
          "metadata": {}
        }
      ],
      "source": [
        "run.log_artifact(processed_data_at)\n",
        "run.finish()"
      ]
    },
    {
      "cell_type": "markdown",
      "source": [
        "#utils.py"
      ],
      "metadata": {
        "id": "2tt9rsY7ErS8"
      },
      "id": "2tt9rsY7ErS8"
    },
    {
      "cell_type": "code",
      "source": [
        "import wandb\n",
        "from sklearn.metrics import ConfusionMatrixDisplay\n",
        "from IPython.display import display, Markdown\n",
        "from fastai.vision.all import *\n",
        "\n",
        "CLASS_INDEX = {v:k for k,v in BDD_CLASSES.items()}\n",
        "\n",
        "def iou_per_class(inp, targ):\n",
        "    \"Compute iou per class\"\n",
        "    iou_scores = []\n",
        "    for c in range(inp.shape[0]):\n",
        "        dec_preds = inp.argmax(dim=0)\n",
        "        p = torch.where(dec_preds == c, 1, 0)\n",
        "        t = torch.where(targ == c, 1, 0)\n",
        "        c_inter = (p * t).float().sum().item()\n",
        "        c_union = (p + t).float().sum().item()\n",
        "        iou_scores.append(c_inter / (c_union - c_inter) if c_union > 0 else np.nan)\n",
        "    return iou_scores\n",
        "\n",
        "def create_row(sample, pred_label, prediction, class_labels):\n",
        "    \"\"\"\"A simple function to create a row of (img, target, prediction, and scores...)\"\"\"\n",
        "    (image, label) = sample\n",
        "    # compute metrics\n",
        "    iou_scores = iou_per_class(prediction, label)\n",
        "    image = image.permute(1, 2, 0)\n",
        "    row =[wandb.Image(\n",
        "                image,\n",
        "                masks={\n",
        "                    \"predictions\": {\n",
        "                        \"mask_data\": pred_label[0].numpy(),\n",
        "                        \"class_labels\": class_labels,\n",
        "                    },\n",
        "                    \"ground_truths\": {\n",
        "                        \"mask_data\": label.numpy(),\n",
        "                        \"class_labels\": class_labels,\n",
        "                    },\n",
        "                },\n",
        "            ),\n",
        "            *iou_scores,\n",
        "    ]\n",
        "    return row\n",
        "\n",
        "def create_iou_table(samples, outputs, predictions, class_labels):\n",
        "    \"Creates a wandb table with predictions and targets side by side\"\n",
        "\n",
        "    def _to_str(l):\n",
        "        return [f'{str(x)} IoU' for x in l]\n",
        "\n",
        "    items = list(zip(samples, outputs, predictions))\n",
        "\n",
        "    table = wandb.Table(\n",
        "        columns=[\"Image\"]\n",
        "        + _to_str(class_labels.values()),\n",
        "    )\n",
        "    # we create one row per sample\n",
        "    for item in progress_bar(items):\n",
        "        table.add_data(*create_row(*item, class_labels=class_labels))\n",
        "\n",
        "    return table\n",
        "\n",
        "def get_predictions(learner, test_dl=None, max_n=None):\n",
        "    \"\"\"Return the samples = (x,y) and outputs (model predictions decoded), and predictions (raw preds)\"\"\"\n",
        "    test_dl = learner.dls.valid if test_dl is None else test_dl\n",
        "    inputs, predictions, targets, outputs = learner.get_preds(\n",
        "        dl=test_dl, with_input=True, with_decoded=True\n",
        "    )\n",
        "    x, y, samples, outputs = learner.dls.valid.show_results(\n",
        "        tuplify(inputs) + tuplify(targets), outputs, show=False, max_n=max_n\n",
        "    )\n",
        "    return samples, outputs, predictions\n",
        "\n",
        "    def value(self): return self.inter/(self.union-self.inter) if self.union > 0 else None\n",
        "\n",
        "class MIOU(DiceMulti):\n",
        "    @property\n",
        "    def value(self):\n",
        "        binary_iou_scores = np.array([])\n",
        "        for c in self.inter:\n",
        "            binary_iou_scores = np.append(binary_iou_scores, \\\n",
        "                                          self.inter[c]/(self.union[c]-self.inter[c]) if self.union[c] > 0 else np.nan)\n",
        "        return np.nanmean(binary_iou_scores)\n",
        "\n",
        "class IOU(DiceMulti):\n",
        "    @property\n",
        "    def value(self):\n",
        "        c=CLASS_INDEX[self.nm]\n",
        "        return self.inter[c]/(self.union[c]-self.inter[c]) if self.union[c] > 0 else np.nan\n",
        "\n",
        "class BackgroundIOU(IOU): nm = 'background'\n",
        "class RoadIOU(IOU): nm = 'road'\n",
        "class TrafficLightIOU(IOU): nm = 'traffic light'\n",
        "class TrafficSignIOU(IOU): nm = 'traffic sign'\n",
        "class PersonIOU(IOU): nm = 'person'\n",
        "class VehicleIOU(IOU): nm = 'vehicle'\n",
        "class BicycleIOU(IOU): nm = 'bicycle'\n",
        "\n",
        "\n",
        "class IOUMacro(DiceMulti):\n",
        "    @property\n",
        "    def value(self):\n",
        "        c=CLASS_INDEX[self.nm]\n",
        "        if c not in self.count: return np.nan\n",
        "        else: return self.macro[c]/self.count[c] if self.count[c] > 0 else np.nan\n",
        "\n",
        "    def reset(self): self.macro,self.count = {},{}\n",
        "\n",
        "    def accumulate(self, learn):\n",
        "        pred,targ = learn.pred.argmax(dim=self.axis), learn.y\n",
        "        for c in range(learn.pred.shape[self.axis]):\n",
        "            p = torch.where(pred == c, 1, 0)\n",
        "            t = torch.where(targ == c, 1, 0)\n",
        "            c_inter = (p*t).float().sum(dim=(1,2))\n",
        "            c_union = (p+t).float().sum(dim=(1,2))\n",
        "            m = c_inter / (c_union - c_inter)\n",
        "            macro = m[~torch.any(m.isnan())]\n",
        "            count = macro.shape[1]\n",
        "\n",
        "            if count > 0:\n",
        "                msum = macro.sum().item()\n",
        "                if c in self.count:\n",
        "                    self.count[c] += count\n",
        "                    self.macro[c] += msum\n",
        "                else:\n",
        "                    self.count[c] = count\n",
        "                    self.macro[c] = msum\n",
        "\n",
        "\n",
        "class MIouMacro(IOUMacro):\n",
        "    @property\n",
        "    def value(self):\n",
        "        binary_iou_scores = np.array([])\n",
        "        for c in self.count:\n",
        "            binary_iou_scores = np.append(binary_iou_scores, self.macro[c]/self.count[c] if self.count[c] > 0 else np.nan)\n",
        "        return np.nanmean(binary_iou_scores)\n",
        "\n",
        "\n",
        "class BackgroundIouMacro(IOUMacro): nm = 'background'\n",
        "class RoadIouMacro(IOUMacro): nm = 'road'\n",
        "class TrafficLightIouMacro(IOUMacro): nm = 'traffic light'\n",
        "class TrafficSignIouMacro(IOUMacro): nm = 'traffic sign'\n",
        "class PersonIouMacro(IOUMacro): nm = 'person'\n",
        "class VehicleIouMacro(IOUMacro): nm = 'vehicle'\n",
        "class BicycleIouMacro(IOUMacro): nm = 'bicycle'\n",
        "\n",
        "\n",
        "def display_diagnostics(learner, dls=None, return_vals=False):\n",
        "    \"\"\"\n",
        "    Display a confusion matrix for the unet learner.\n",
        "    If `dls` is None it will get the validation set from the Learner\n",
        "\n",
        "    You can create a test dataloader using the `test_dl()` method like so:\n",
        "    >> dls = ... # You usually create this from the DataBlocks api, in this library it is get_data()\n",
        "    >> tdls = dls.test_dl(test_dataframe, with_labels=True)\n",
        "\n",
        "    See: https://docs.fast.ai/tutorial.pets.html#adding-a-test-dataloader-for-inference\n",
        "\n",
        "    \"\"\"\n",
        "    probs, targs = learner.get_preds(dl = dls)\n",
        "    preds = probs.argmax(dim=1)\n",
        "    classes = list(params.BDD_CLASSES.values())\n",
        "    y_true = targs.flatten().numpy()\n",
        "    y_pred = preds.flatten().numpy()\n",
        "\n",
        "    tdf, pdf = [pd.DataFrame(r).value_counts().to_frame(c) for r,c in zip((y_true, y_pred) , ['y_true', 'y_pred'])]\n",
        "    countdf = tdf.join(pdf, how='outer').reset_index(drop=True).fillna(0).astype(int).rename(index= params.BDD_CLASSES)\n",
        "    countdf = countdf/countdf.sum()\n",
        "    display(Markdown('### % Of Pixels In Each Class'))\n",
        "    display(countdf.style.format('{:.1%}'))\n",
        "\n",
        "\n",
        "    disp = ConfusionMatrixDisplay.from_predictions(y_true=y_true, y_pred=y_pred,\n",
        "                                                   display_labels=classes,\n",
        "                                                   normalize='pred')\n",
        "    fig = disp.ax_.get_figure()\n",
        "    fig.set_figwidth(10)\n",
        "    fig.set_figheight(10)\n",
        "    disp.ax_.set_title('Confusion Matrix (by Pixels)', fontdict={'fontsize': 32, 'fontweight': 'medium'})\n",
        "    fig.show()\n",
        "\n",
        "    if return_vals: return countdf, disp\n",
        "\n"
      ],
      "metadata": {
        "id": "i6WYcuADEtsz"
      },
      "id": "i6WYcuADEtsz",
      "execution_count": 5,
      "outputs": []
    },
    {
      "cell_type": "markdown",
      "source": [
        "#Baseline Model"
      ],
      "metadata": {
        "id": "YB7J3IrPEZE_"
      },
      "id": "YB7J3IrPEZE_"
    },
    {
      "cell_type": "code",
      "execution_count": 6,
      "id": "299d71f3",
      "metadata": {
        "id": "299d71f3"
      },
      "outputs": [],
      "source": [
        "import wandb\n",
        "import pandas as pd\n",
        "from fastai.vision.all import *\n",
        "from fastai.callback.wandb import WandbCallback"
      ]
    },
    {
      "cell_type": "code",
      "source": [
        "train_config = SimpleNamespace(\n",
        "    framework=\"fastai\",\n",
        "    img_size=(180, 320),\n",
        "    batch_size=8,\n",
        "    augment=True, # use data augmentation\n",
        "    epochs=10,\n",
        "    lr=2e-3,\n",
        "    pretrained=True,  # whether to use pretrained encoder\n",
        "    seed=42,\n",
        ")"
      ],
      "metadata": {
        "id": "mj0H0fs0E9AY"
      },
      "id": "mj0H0fs0E9AY",
      "execution_count": 7,
      "outputs": []
    },
    {
      "cell_type": "code",
      "source": [
        "set_seed(train_config.seed, reproducible=True)"
      ],
      "metadata": {
        "id": "KiJZOk2jFBEW"
      },
      "id": "KiJZOk2jFBEW",
      "execution_count": 8,
      "outputs": []
    },
    {
      "cell_type": "code",
      "source": [
        "run = wandb.init(project=WANDB_PROJECT, entity=ENTITY, job_type=\"training\", config=train_config)"
      ],
      "metadata": {
        "colab": {
          "base_uri": "https://localhost:8080/",
          "height": 193
        },
        "id": "HYRHA7B2FGbx",
        "outputId": "85eec1a7-d716-43b3-d7b5-59c5cc935053"
      },
      "id": "HYRHA7B2FGbx",
      "execution_count": 9,
      "outputs": [
        {
          "output_type": "display_data",
          "data": {
            "text/plain": [
              "<IPython.core.display.Javascript object>"
            ],
            "application/javascript": [
              "\n",
              "        window._wandbApiKey = new Promise((resolve, reject) => {\n",
              "            function loadScript(url) {\n",
              "            return new Promise(function(resolve, reject) {\n",
              "                let newScript = document.createElement(\"script\");\n",
              "                newScript.onerror = reject;\n",
              "                newScript.onload = resolve;\n",
              "                document.body.appendChild(newScript);\n",
              "                newScript.src = url;\n",
              "            });\n",
              "            }\n",
              "            loadScript(\"https://cdn.jsdelivr.net/npm/postmate/build/postmate.min.js\").then(() => {\n",
              "            const iframe = document.createElement('iframe')\n",
              "            iframe.style.cssText = \"width:0;height:0;border:none\"\n",
              "            document.body.appendChild(iframe)\n",
              "            const handshake = new Postmate({\n",
              "                container: iframe,\n",
              "                url: 'https://wandb.ai/authorize'\n",
              "            });\n",
              "            const timeout = setTimeout(() => reject(\"Couldn't auto authenticate\"), 5000)\n",
              "            handshake.then(function(child) {\n",
              "                child.on('authorize', data => {\n",
              "                    clearTimeout(timeout)\n",
              "                    resolve(data)\n",
              "                });\n",
              "            });\n",
              "            })\n",
              "        });\n",
              "    "
            ]
          },
          "metadata": {}
        },
        {
          "output_type": "stream",
          "name": "stderr",
          "text": [
            "\u001b[34m\u001b[1mwandb\u001b[0m: Logging into wandb.ai. (Learn how to deploy a W&B server locally: https://wandb.me/wandb-server)\n",
            "\u001b[34m\u001b[1mwandb\u001b[0m: You can find your API key in your browser here: https://wandb.ai/authorize\n",
            "wandb: Paste an API key from your profile and hit enter, or press ctrl+c to quit:"
          ]
        },
        {
          "name": "stdout",
          "output_type": "stream",
          "text": [
            " ··········\n"
          ]
        },
        {
          "output_type": "stream",
          "name": "stderr",
          "text": [
            "\u001b[34m\u001b[1mwandb\u001b[0m: Appending key for api.wandb.ai to your netrc file: /root/.netrc\n"
          ]
        },
        {
          "output_type": "display_data",
          "data": {
            "text/plain": [
              "<IPython.core.display.HTML object>"
            ],
            "text/html": [
              "Tracking run with wandb version 0.15.8"
            ]
          },
          "metadata": {}
        },
        {
          "output_type": "display_data",
          "data": {
            "text/plain": [
              "<IPython.core.display.HTML object>"
            ],
            "text/html": [
              "Run data is saved locally in <code>/content/wandb/run-20230803_143654-dsj7335x</code>"
            ]
          },
          "metadata": {}
        },
        {
          "output_type": "display_data",
          "data": {
            "text/plain": [
              "<IPython.core.display.HTML object>"
            ],
            "text/html": [
              "Syncing run <strong><a href='https://wandb.ai/abdussamad/MLOps/runs/dsj7335x' target=\"_blank\">clean-frog-5</a></strong> to <a href='https://wandb.ai/abdussamad/MLOps' target=\"_blank\">Weights & Biases</a> (<a href='https://wandb.me/run' target=\"_blank\">docs</a>)<br/>"
            ]
          },
          "metadata": {}
        },
        {
          "output_type": "display_data",
          "data": {
            "text/plain": [
              "<IPython.core.display.HTML object>"
            ],
            "text/html": [
              " View project at <a href='https://wandb.ai/abdussamad/MLOps' target=\"_blank\">https://wandb.ai/abdussamad/MLOps</a>"
            ]
          },
          "metadata": {}
        },
        {
          "output_type": "display_data",
          "data": {
            "text/plain": [
              "<IPython.core.display.HTML object>"
            ],
            "text/html": [
              " View run at <a href='https://wandb.ai/abdussamad/MLOps/runs/dsj7335x' target=\"_blank\">https://wandb.ai/abdussamad/MLOps/runs/dsj7335x</a>"
            ]
          },
          "metadata": {}
        }
      ]
    },
    {
      "cell_type": "code",
      "source": [
        "processed_data_at = run.use_artifact(f'{PROCESSED_DATA_AT}:latest')\n",
        "processed_dataset_dir = Path(processed_data_at.download())\n",
        "df = pd.read_csv(processed_dataset_dir / 'data_split.csv')"
      ],
      "metadata": {
        "colab": {
          "base_uri": "https://localhost:8080/"
        },
        "id": "VwW-lo_hFJF0",
        "outputId": "5ac4c82f-e265-4f12-92d1-e69a312d1dd5"
      },
      "id": "VwW-lo_hFJF0",
      "execution_count": 10,
      "outputs": [
        {
          "output_type": "stream",
          "name": "stderr",
          "text": [
            "\u001b[34m\u001b[1mwandb\u001b[0m: Downloading large artifact bdd_simple_1k_split:latest, 813.25MB. 4010 files... \n",
            "\u001b[34m\u001b[1mwandb\u001b[0m:   4010 of 4010 files downloaded.  \n",
            "Done. 0:0:40.0\n"
          ]
        }
      ]
    },
    {
      "cell_type": "code",
      "source": [
        "df = df[df.Stage != 'test'].reset_index(drop=True)\n",
        "df['is_valid'] = df.Stage == 'valid'"
      ],
      "metadata": {
        "id": "yA4fNkMiFVBS"
      },
      "id": "yA4fNkMiFVBS",
      "execution_count": 11,
      "outputs": []
    },
    {
      "cell_type": "code",
      "source": [
        "def label_func(fname):\n",
        "    return (fname.parent.parent/\"labels\")/f\"{fname.stem}_mask.png\""
      ],
      "metadata": {
        "id": "oSYqzU-_GRv9"
      },
      "id": "oSYqzU-_GRv9",
      "execution_count": 12,
      "outputs": []
    },
    {
      "cell_type": "code",
      "source": [
        "# assign paths\n",
        "df[\"image_fname\"] = [processed_dataset_dir/f'images/{f}' for f in df.File_Name.values]\n",
        "df[\"label_fname\"] = [label_func(f) for f in df.image_fname.values]"
      ],
      "metadata": {
        "id": "MmGdcQSlGVlY"
      },
      "id": "MmGdcQSlGVlY",
      "execution_count": 13,
      "outputs": []
    },
    {
      "cell_type": "code",
      "source": [
        "def get_data(df, bs=4, img_size=(180, 320), augment=True):\n",
        "    block = DataBlock(blocks=(ImageBlock, MaskBlock(codes=BDD_CLASSES)),\n",
        "                  get_x=ColReader(\"image_fname\"),\n",
        "                  get_y=ColReader(\"label_fname\"),\n",
        "                  splitter=ColSplitter(),\n",
        "                  item_tfms=Resize(img_size),\n",
        "                  batch_tfms=aug_transforms() if augment else None,\n",
        "                 )\n",
        "    return block.dataloaders(df, bs=bs)"
      ],
      "metadata": {
        "id": "ku4v-7AsGiCL"
      },
      "id": "ku4v-7AsGiCL",
      "execution_count": 14,
      "outputs": []
    },
    {
      "cell_type": "code",
      "source": [
        "config = wandb.config"
      ],
      "metadata": {
        "id": "idISSBJPGmeE"
      },
      "id": "idISSBJPGmeE",
      "execution_count": 15,
      "outputs": []
    },
    {
      "cell_type": "code",
      "source": [
        "dls = get_data(df, bs=config.batch_size, img_size=config.img_size, augment=config.augment)"
      ],
      "metadata": {
        "id": "o3MfvA7yGozG"
      },
      "id": "o3MfvA7yGozG",
      "execution_count": 16,
      "outputs": []
    },
    {
      "cell_type": "code",
      "source": [
        "metrics = [MIOU(), BackgroundIOU(), RoadIOU(), TrafficLightIOU(), \\\n",
        "           TrafficSignIOU(), PersonIOU(), VehicleIOU(), BicycleIOU()]\n",
        "\n",
        "learn = unet_learner(dls, arch=resnet18, pretrained=config.pretrained, metrics=metrics)"
      ],
      "metadata": {
        "colab": {
          "base_uri": "https://localhost:8080/"
        },
        "id": "95prM4etGq4A",
        "outputId": "db9adcfe-f4a8-4980-c5a3-edb0199a6ddb"
      },
      "id": "95prM4etGq4A",
      "execution_count": 17,
      "outputs": [
        {
          "output_type": "stream",
          "name": "stderr",
          "text": [
            "Downloading: \"https://download.pytorch.org/models/resnet18-f37072fd.pth\" to /root/.cache/torch/hub/checkpoints/resnet18-f37072fd.pth\n",
            "100%|██████████| 44.7M/44.7M [00:00<00:00, 65.9MB/s]\n"
          ]
        }
      ]
    },
    {
      "cell_type": "code",
      "source": [
        "callbacks = [\n",
        "    SaveModelCallback(monitor='miou'),\n",
        "    WandbCallback(log_preds=False, log_model=True)\n",
        "]"
      ],
      "metadata": {
        "id": "AqNIuMQHG6qv"
      },
      "id": "AqNIuMQHG6qv",
      "execution_count": 18,
      "outputs": []
    },
    {
      "cell_type": "code",
      "source": [
        "learn.fit_one_cycle(config.epochs, config.lr, cbs=callbacks)"
      ],
      "metadata": {
        "colab": {
          "base_uri": "https://localhost:8080/",
          "height": 761
        },
        "id": "RbJTA59rG-3U",
        "outputId": "e6eae98c-7e09-4648-8918-2196a67003c2"
      },
      "id": "RbJTA59rG-3U",
      "execution_count": 19,
      "outputs": [
        {
          "data": {
            "text/html": [
              "\n",
              "<style>\n",
              "    /* Turns off some styling */\n",
              "    progress {\n",
              "        /* gets rid of default border in Firefox and Opera. */\n",
              "        border: none;\n",
              "        /* Needs to be in here for Safari polyfill so background images work as expected. */\n",
              "        background-size: auto;\n",
              "    }\n",
              "    progress:not([value]), progress:not([value])::-webkit-progress-bar {\n",
              "        background: repeating-linear-gradient(45deg, #7e7e7e, #7e7e7e 10px, #5c5c5c 10px, #5c5c5c 20px);\n",
              "    }\n",
              "    .progress-bar-interrupted, .progress-bar-interrupted::-webkit-progress-bar {\n",
              "        background: #F44336;\n",
              "    }\n",
              "</style>\n"
            ],
            "text/plain": [
              "<IPython.core.display.HTML object>"
            ]
          },
          "metadata": {},
          "output_type": "display_data"
        },
        {
          "data": {
            "text/html": [
              "\n",
              "    <div>\n",
              "      <progress value='5' class='' max='10' style='width:300px; height:20px; vertical-align: middle;'></progress>\n",
              "      50.00% [5/10 03:34&lt;03:34]\n",
              "    </div>\n",
              "    \n",
              "<table border=\"1\" class=\"dataframe\">\n",
              "  <thead>\n",
              "    <tr style=\"text-align: left;\">\n",
              "      <th>epoch</th>\n",
              "      <th>train_loss</th>\n",
              "      <th>valid_loss</th>\n",
              "      <th>miou</th>\n",
              "      <th>background_iou</th>\n",
              "      <th>road_iou</th>\n",
              "      <th>traffic_light_iou</th>\n",
              "      <th>traffic_sign_iou</th>\n",
              "      <th>person_iou</th>\n",
              "      <th>vehicle_iou</th>\n",
              "      <th>bicycle_iou</th>\n",
              "      <th>time</th>\n",
              "    </tr>\n",
              "  </thead>\n",
              "  <tbody>\n",
              "    <tr>\n",
              "      <td>0</td>\n",
              "      <td>0.503500</td>\n",
              "      <td>0.364788</td>\n",
              "      <td>0.302899</td>\n",
              "      <td>0.856045</td>\n",
              "      <td>0.682933</td>\n",
              "      <td>0.000000</td>\n",
              "      <td>0.000000</td>\n",
              "      <td>0.000000</td>\n",
              "      <td>0.581317</td>\n",
              "      <td>0.000000</td>\n",
              "      <td>00:44</td>\n",
              "    </tr>\n",
              "    <tr>\n",
              "      <td>1</td>\n",
              "      <td>0.441540</td>\n",
              "      <td>0.456096</td>\n",
              "      <td>0.223625</td>\n",
              "      <td>0.804077</td>\n",
              "      <td>0.752603</td>\n",
              "      <td>0.000000</td>\n",
              "      <td>0.000000</td>\n",
              "      <td>0.000000</td>\n",
              "      <td>0.008696</td>\n",
              "      <td>0.000000</td>\n",
              "      <td>00:40</td>\n",
              "    </tr>\n",
              "    <tr>\n",
              "      <td>2</td>\n",
              "      <td>0.341107</td>\n",
              "      <td>0.310370</td>\n",
              "      <td>0.335007</td>\n",
              "      <td>0.889018</td>\n",
              "      <td>0.781805</td>\n",
              "      <td>0.000000</td>\n",
              "      <td>0.000000</td>\n",
              "      <td>0.000000</td>\n",
              "      <td>0.674224</td>\n",
              "      <td>0.000000</td>\n",
              "      <td>00:44</td>\n",
              "    </tr>\n",
              "    <tr>\n",
              "      <td>3</td>\n",
              "      <td>0.308571</td>\n",
              "      <td>0.294588</td>\n",
              "      <td>0.335348</td>\n",
              "      <td>0.888502</td>\n",
              "      <td>0.773587</td>\n",
              "      <td>0.000000</td>\n",
              "      <td>0.000000</td>\n",
              "      <td>0.000000</td>\n",
              "      <td>0.685345</td>\n",
              "      <td>0.000000</td>\n",
              "      <td>00:42</td>\n",
              "    </tr>\n",
              "    <tr>\n",
              "      <td>4</td>\n",
              "      <td>0.284449</td>\n",
              "      <td>0.295170</td>\n",
              "      <td>0.337692</td>\n",
              "      <td>0.890041</td>\n",
              "      <td>0.753821</td>\n",
              "      <td>0.000000</td>\n",
              "      <td>0.000000</td>\n",
              "      <td>0.000000</td>\n",
              "      <td>0.719981</td>\n",
              "      <td>0.000000</td>\n",
              "      <td>00:40</td>\n",
              "    </tr>\n",
              "  </tbody>\n",
              "</table><p>\n",
              "\n",
              "    <div>\n",
              "      <progress value='50' class='' max='100' style='width:300px; height:20px; vertical-align: middle;'></progress>\n",
              "      50.00% [50/100 00:19&lt;00:19 0.2634]\n",
              "    </div>\n",
              "    "
            ],
            "text/plain": [
              "<IPython.core.display.HTML object>"
            ]
          },
          "metadata": {},
          "output_type": "display_data"
        },
        {
          "metadata": {
            "tags": null
          },
          "name": "stdout",
          "output_type": "stream",
          "text": [
            "Better model found at epoch 0 with miou value: 0.30289944952858733.\n",
            "Better model found at epoch 2 with miou value: 0.33500671276999844.\n",
            "Better model found at epoch 3 with miou value: 0.3353476620971991.\n",
            "Better model found at epoch 4 with miou value: 0.33769184654925394.\n"
          ]
        },
        {
          "output_type": "display_data",
          "data": {
            "text/plain": [
              "<IPython.core.display.HTML object>"
            ],
            "text/html": [
              "<table border=\"1\" class=\"dataframe\">\n",
              "  <thead>\n",
              "    <tr style=\"text-align: left;\">\n",
              "      <th>epoch</th>\n",
              "      <th>train_loss</th>\n",
              "      <th>valid_loss</th>\n",
              "      <th>miou</th>\n",
              "      <th>background_iou</th>\n",
              "      <th>road_iou</th>\n",
              "      <th>traffic_light_iou</th>\n",
              "      <th>traffic_sign_iou</th>\n",
              "      <th>person_iou</th>\n",
              "      <th>vehicle_iou</th>\n",
              "      <th>bicycle_iou</th>\n",
              "      <th>time</th>\n",
              "    </tr>\n",
              "  </thead>\n",
              "  <tbody>\n",
              "    <tr>\n",
              "      <td>0</td>\n",
              "      <td>0.503500</td>\n",
              "      <td>0.364788</td>\n",
              "      <td>0.302899</td>\n",
              "      <td>0.856045</td>\n",
              "      <td>0.682933</td>\n",
              "      <td>0.000000</td>\n",
              "      <td>0.000000</td>\n",
              "      <td>0.000000</td>\n",
              "      <td>0.581317</td>\n",
              "      <td>0.000000</td>\n",
              "      <td>00:44</td>\n",
              "    </tr>\n",
              "    <tr>\n",
              "      <td>1</td>\n",
              "      <td>0.441540</td>\n",
              "      <td>0.456096</td>\n",
              "      <td>0.223625</td>\n",
              "      <td>0.804077</td>\n",
              "      <td>0.752603</td>\n",
              "      <td>0.000000</td>\n",
              "      <td>0.000000</td>\n",
              "      <td>0.000000</td>\n",
              "      <td>0.008696</td>\n",
              "      <td>0.000000</td>\n",
              "      <td>00:40</td>\n",
              "    </tr>\n",
              "    <tr>\n",
              "      <td>2</td>\n",
              "      <td>0.341107</td>\n",
              "      <td>0.310370</td>\n",
              "      <td>0.335007</td>\n",
              "      <td>0.889018</td>\n",
              "      <td>0.781805</td>\n",
              "      <td>0.000000</td>\n",
              "      <td>0.000000</td>\n",
              "      <td>0.000000</td>\n",
              "      <td>0.674224</td>\n",
              "      <td>0.000000</td>\n",
              "      <td>00:44</td>\n",
              "    </tr>\n",
              "    <tr>\n",
              "      <td>3</td>\n",
              "      <td>0.308571</td>\n",
              "      <td>0.294588</td>\n",
              "      <td>0.335348</td>\n",
              "      <td>0.888502</td>\n",
              "      <td>0.773587</td>\n",
              "      <td>0.000000</td>\n",
              "      <td>0.000000</td>\n",
              "      <td>0.000000</td>\n",
              "      <td>0.685345</td>\n",
              "      <td>0.000000</td>\n",
              "      <td>00:42</td>\n",
              "    </tr>\n",
              "    <tr>\n",
              "      <td>4</td>\n",
              "      <td>0.284449</td>\n",
              "      <td>0.295170</td>\n",
              "      <td>0.337692</td>\n",
              "      <td>0.890041</td>\n",
              "      <td>0.753821</td>\n",
              "      <td>0.000000</td>\n",
              "      <td>0.000000</td>\n",
              "      <td>0.000000</td>\n",
              "      <td>0.719981</td>\n",
              "      <td>0.000000</td>\n",
              "      <td>00:40</td>\n",
              "    </tr>\n",
              "    <tr>\n",
              "      <td>5</td>\n",
              "      <td>0.244119</td>\n",
              "      <td>0.291671</td>\n",
              "      <td>0.347504</td>\n",
              "      <td>0.902776</td>\n",
              "      <td>0.799168</td>\n",
              "      <td>0.000000</td>\n",
              "      <td>0.000000</td>\n",
              "      <td>0.000000</td>\n",
              "      <td>0.730585</td>\n",
              "      <td>0.000000</td>\n",
              "      <td>00:40</td>\n",
              "    </tr>\n",
              "    <tr>\n",
              "      <td>6</td>\n",
              "      <td>0.226735</td>\n",
              "      <td>0.267549</td>\n",
              "      <td>0.356690</td>\n",
              "      <td>0.909136</td>\n",
              "      <td>0.822833</td>\n",
              "      <td>0.019914</td>\n",
              "      <td>0.000000</td>\n",
              "      <td>0.000000</td>\n",
              "      <td>0.744949</td>\n",
              "      <td>0.000000</td>\n",
              "      <td>00:42</td>\n",
              "    </tr>\n",
              "    <tr>\n",
              "      <td>7</td>\n",
              "      <td>0.206693</td>\n",
              "      <td>0.256822</td>\n",
              "      <td>0.360256</td>\n",
              "      <td>0.910406</td>\n",
              "      <td>0.823629</td>\n",
              "      <td>0.038498</td>\n",
              "      <td>0.000000</td>\n",
              "      <td>0.000000</td>\n",
              "      <td>0.749256</td>\n",
              "      <td>0.000000</td>\n",
              "      <td>00:41</td>\n",
              "    </tr>\n",
              "    <tr>\n",
              "      <td>8</td>\n",
              "      <td>0.191840</td>\n",
              "      <td>0.244747</td>\n",
              "      <td>0.367153</td>\n",
              "      <td>0.912149</td>\n",
              "      <td>0.825660</td>\n",
              "      <td>0.075743</td>\n",
              "      <td>0.000000</td>\n",
              "      <td>0.000000</td>\n",
              "      <td>0.756516</td>\n",
              "      <td>0.000000</td>\n",
              "      <td>00:41</td>\n",
              "    </tr>\n",
              "    <tr>\n",
              "      <td>9</td>\n",
              "      <td>0.179307</td>\n",
              "      <td>0.243743</td>\n",
              "      <td>0.365229</td>\n",
              "      <td>0.912416</td>\n",
              "      <td>0.826369</td>\n",
              "      <td>0.063608</td>\n",
              "      <td>0.000000</td>\n",
              "      <td>0.000000</td>\n",
              "      <td>0.754213</td>\n",
              "      <td>0.000000</td>\n",
              "      <td>00:41</td>\n",
              "    </tr>\n",
              "  </tbody>\n",
              "</table>"
            ]
          },
          "metadata": {}
        },
        {
          "output_type": "stream",
          "name": "stdout",
          "text": [
            "Better model found at epoch 5 with miou value: 0.3475041149280384.\n",
            "Better model found at epoch 6 with miou value: 0.3566903117209734.\n",
            "Better model found at epoch 7 with miou value: 0.36025550714110466.\n",
            "Better model found at epoch 8 with miou value: 0.3671525157565793.\n"
          ]
        }
      ]
    },
    {
      "cell_type": "code",
      "source": [
        "samples, outputs, predictions = get_predictions(learn)\n",
        "table = create_iou_table(samples, outputs, predictions, BDD_CLASSES)\n",
        "wandb.log({\"pred_table\":table})"
      ],
      "metadata": {
        "colab": {
          "base_uri": "https://localhost:8080/",
          "height": 37
        },
        "id": "Wxg52t6NHNhF",
        "outputId": "143d494b-599a-4e8c-f870-c949b5f78665"
      },
      "id": "Wxg52t6NHNhF",
      "execution_count": 20,
      "outputs": [
        {
          "output_type": "display_data",
          "data": {
            "text/plain": [
              "<IPython.core.display.HTML object>"
            ],
            "text/html": [
              "\n",
              "<style>\n",
              "    /* Turns off some styling */\n",
              "    progress {\n",
              "        /* gets rid of default border in Firefox and Opera. */\n",
              "        border: none;\n",
              "        /* Needs to be in here for Safari polyfill so background images work as expected. */\n",
              "        background-size: auto;\n",
              "    }\n",
              "    progress:not([value]), progress:not([value])::-webkit-progress-bar {\n",
              "        background: repeating-linear-gradient(45deg, #7e7e7e, #7e7e7e 10px, #5c5c5c 10px, #5c5c5c 20px);\n",
              "    }\n",
              "    .progress-bar-interrupted, .progress-bar-interrupted::-webkit-progress-bar {\n",
              "        background: #F44336;\n",
              "    }\n",
              "</style>\n"
            ]
          },
          "metadata": {}
        },
        {
          "output_type": "display_data",
          "data": {
            "text/plain": [
              "<IPython.core.display.HTML object>"
            ],
            "text/html": []
          },
          "metadata": {}
        },
        {
          "output_type": "display_data",
          "data": {
            "text/plain": [
              "<IPython.core.display.HTML object>"
            ],
            "text/html": [
              "\n",
              "<style>\n",
              "    /* Turns off some styling */\n",
              "    progress {\n",
              "        /* gets rid of default border in Firefox and Opera. */\n",
              "        border: none;\n",
              "        /* Needs to be in here for Safari polyfill so background images work as expected. */\n",
              "        background-size: auto;\n",
              "    }\n",
              "    progress:not([value]), progress:not([value])::-webkit-progress-bar {\n",
              "        background: repeating-linear-gradient(45deg, #7e7e7e, #7e7e7e 10px, #5c5c5c 10px, #5c5c5c 20px);\n",
              "    }\n",
              "    .progress-bar-interrupted, .progress-bar-interrupted::-webkit-progress-bar {\n",
              "        background: #F44336;\n",
              "    }\n",
              "</style>\n"
            ]
          },
          "metadata": {}
        },
        {
          "output_type": "display_data",
          "data": {
            "text/plain": [
              "<IPython.core.display.HTML object>"
            ],
            "text/html": [
              "\n",
              "    <div>\n",
              "      <progress value='100' class='' max='100' style='width:300px; height:20px; vertical-align: middle;'></progress>\n",
              "      100.00% [100/100 00:12&lt;00:00]\n",
              "    </div>\n",
              "    "
            ]
          },
          "metadata": {}
        }
      ]
    },
    {
      "cell_type": "code",
      "source": [
        "scores = learn.validate()\n",
        "metric_names = ['final_loss'] + [f'final_{x.name}' for x in metrics]\n",
        "final_results = {metric_names[i] : scores[i] for i in range(len(scores))}\n",
        "for k,v in final_results.items():\n",
        "    wandb.summary[k] = v"
      ],
      "metadata": {
        "colab": {
          "base_uri": "https://localhost:8080/",
          "height": 17
        },
        "id": "5aU1d38mHb2m",
        "outputId": "ae8a0d8a-6f77-4fe5-8cf8-f2e126c5a233"
      },
      "id": "5aU1d38mHb2m",
      "execution_count": 21,
      "outputs": [
        {
          "output_type": "display_data",
          "data": {
            "text/plain": [
              "<IPython.core.display.HTML object>"
            ],
            "text/html": [
              "\n",
              "<style>\n",
              "    /* Turns off some styling */\n",
              "    progress {\n",
              "        /* gets rid of default border in Firefox and Opera. */\n",
              "        border: none;\n",
              "        /* Needs to be in here for Safari polyfill so background images work as expected. */\n",
              "        background-size: auto;\n",
              "    }\n",
              "    progress:not([value]), progress:not([value])::-webkit-progress-bar {\n",
              "        background: repeating-linear-gradient(45deg, #7e7e7e, #7e7e7e 10px, #5c5c5c 10px, #5c5c5c 20px);\n",
              "    }\n",
              "    .progress-bar-interrupted, .progress-bar-interrupted::-webkit-progress-bar {\n",
              "        background: #F44336;\n",
              "    }\n",
              "</style>\n"
            ]
          },
          "metadata": {}
        },
        {
          "output_type": "display_data",
          "data": {
            "text/plain": [
              "<IPython.core.display.HTML object>"
            ],
            "text/html": []
          },
          "metadata": {}
        }
      ]
    },
    {
      "cell_type": "code",
      "source": [
        "wandb.finish()"
      ],
      "metadata": {
        "colab": {
          "base_uri": "https://localhost:8080/",
          "height": 1000,
          "referenced_widgets": [
            "9b9b781657a94beaae54ce4c71c013af",
            "76ddb75a8fb14d4d85a43a065b806a44",
            "c9d95f9a6ad14b8e8762e969851952a8",
            "9373e63621344dea911bf56acde2abce",
            "c44699d6266c4ab7a07b2c39d07b393e",
            "8ec72c704c924cf9aa519ad9c497a7e5",
            "cd98862406084ca2b8c8d1fc00175e10",
            "a405c2f970d344d5a12a2994791bca9e"
          ]
        },
        "id": "LaeXUNtSHeXO",
        "outputId": "c8b6093d-cfeb-4ac8-b990-bebfc510a74e"
      },
      "id": "LaeXUNtSHeXO",
      "execution_count": 22,
      "outputs": [
        {
          "output_type": "display_data",
          "data": {
            "text/plain": [
              "<IPython.core.display.HTML object>"
            ],
            "text/html": [
              "Waiting for W&B process to finish... <strong style=\"color:green\">(success).</strong>"
            ]
          },
          "metadata": {}
        },
        {
          "output_type": "display_data",
          "data": {
            "text/plain": [
              "VBox(children=(Label(value='131.756 MB of 131.756 MB uploaded (0.000 MB deduped)\\r'), FloatProgress(value=1.0,…"
            ],
            "application/vnd.jupyter.widget-view+json": {
              "version_major": 2,
              "version_minor": 0,
              "model_id": "9b9b781657a94beaae54ce4c71c013af"
            }
          },
          "metadata": {}
        },
        {
          "output_type": "display_data",
          "data": {
            "text/plain": [
              "<IPython.core.display.HTML object>"
            ],
            "text/html": [
              "<style>\n",
              "    table.wandb td:nth-child(1) { padding: 0 10px; text-align: left ; width: auto;} td:nth-child(2) {text-align: left ; width: 100%}\n",
              "    .wandb-row { display: flex; flex-direction: row; flex-wrap: wrap; justify-content: flex-start; width: 100% }\n",
              "    .wandb-col { display: flex; flex-direction: column; flex-basis: 100%; flex: 1; padding: 10px; }\n",
              "    </style>\n",
              "<div class=\"wandb-row\"><div class=\"wandb-col\"><h3>Run history:</h3><br/><table class=\"wandb\"><tr><td>background_iou</td><td>▄▁▆▆▇▇████</td></tr><tr><td>bicycle_iou</td><td>▁▁▁▁▁▁▁▁▁▁</td></tr><tr><td>epoch</td><td>▁▁▁▂▂▂▂▂▂▃▃▃▃▃▄▄▄▄▄▄▅▅▅▅▅▅▆▆▆▆▆▇▇▇▇▇▇███</td></tr><tr><td>eps_0</td><td>▁▁▁▁▁▁▁▁▁▁▁▁▁▁▁▁▁▁▁▁▁▁▁▁▁▁▁▁▁▁▁▁▁▁▁▁▁▁▁▁</td></tr><tr><td>eps_1</td><td>▁▁▁▁▁▁▁▁▁▁▁▁▁▁▁▁▁▁▁▁▁▁▁▁▁▁▁▁▁▁▁▁▁▁▁▁▁▁▁▁</td></tr><tr><td>eps_2</td><td>▁▁▁▁▁▁▁▁▁▁▁▁▁▁▁▁▁▁▁▁▁▁▁▁▁▁▁▁▁▁▁▁▁▁▁▁▁▁▁▁</td></tr><tr><td>lr_0</td><td>▁▂▂▃▄▅▆▇███████▇▇▇▇▆▆▆▅▅▅▄▄▄▃▃▃▂▂▂▁▁▁▁▁▁</td></tr><tr><td>lr_1</td><td>▁▂▂▃▄▅▆▇███████▇▇▇▇▆▆▆▅▅▅▄▄▄▃▃▃▂▂▂▁▁▁▁▁▁</td></tr><tr><td>lr_2</td><td>▁▂▂▃▄▅▆▇███████▇▇▇▇▆▆▆▅▅▅▄▄▄▃▃▃▂▂▂▁▁▁▁▁▁</td></tr><tr><td>miou</td><td>▅▁▆▆▇▇▇███</td></tr><tr><td>mom_0</td><td>██▇▆▅▄▃▂▁▁▁▁▁▁▁▂▂▂▂▃▃▃▄▄▄▅▅▅▆▆▆▇▇▇██████</td></tr><tr><td>mom_1</td><td>██▇▆▅▄▃▂▁▁▁▁▁▁▁▂▂▂▂▃▃▃▄▄▄▅▅▅▆▆▆▇▇▇██████</td></tr><tr><td>mom_2</td><td>██▇▆▅▄▃▂▁▁▁▁▁▁▁▂▂▂▂▃▃▃▄▄▄▅▅▅▆▆▆▇▇▇██████</td></tr><tr><td>person_iou</td><td>▁▁▁▁▁▁▁▁▁▁</td></tr><tr><td>raw_loss</td><td>█▄▅▄▄▃▄▆▄▂▂▂▂▃▄▃▂▃▂▂▂▂▂▂▂▂▁▂▂▁▁▂▁▃▁▂▂▁▁▁</td></tr><tr><td>road_iou</td><td>▁▄▆▅▄▇████</td></tr><tr><td>sqr_mom_0</td><td>▁▁▁▁▁▁▁▁▁▁▁▁▁▁▁▁▁▁▁▁▁▁▁▁▁▁▁▁▁▁▁▁▁▁▁▁▁▁▁▁</td></tr><tr><td>sqr_mom_1</td><td>▁▁▁▁▁▁▁▁▁▁▁▁▁▁▁▁▁▁▁▁▁▁▁▁▁▁▁▁▁▁▁▁▁▁▁▁▁▁▁▁</td></tr><tr><td>sqr_mom_2</td><td>▁▁▁▁▁▁▁▁▁▁▁▁▁▁▁▁▁▁▁▁▁▁▁▁▁▁▁▁▁▁▁▁▁▁▁▁▁▁▁▁</td></tr><tr><td>traffic_light_iou</td><td>▁▁▁▁▁▁▃▅█▇</td></tr><tr><td>traffic_sign_iou</td><td>▁▁▁▁▁▁▁▁▁▁</td></tr><tr><td>train_loss</td><td>█▅▄▃▃▃▂▃▃▂▂▂▂▂▂▂▂▂▂▂▂▂▁▁▁▁▁▁▁▁▁▁▁▁▁▁▁▁▁▁</td></tr><tr><td>train_samples_per_sec</td><td>█▇▅▇▆▆▄▅▄▄▂▄▁▅▅▅▅▅▅▅▅▅▅▅▅▅▅▅▅▅▅▅▅▅▅▄▅▅▅▅</td></tr><tr><td>valid_loss</td><td>▅█▃▃▃▃▂▁▁▁</td></tr><tr><td>vehicle_iou</td><td>▆▁▇▇██████</td></tr><tr><td>wd_0</td><td>▁▁▁▁▁▁▁▁▁▁▁▁▁▁▁▁▁▁▁▁▁▁▁▁▁▁▁▁▁▁▁▁▁▁▁▁▁▁▁▁</td></tr><tr><td>wd_1</td><td>▁▁▁▁▁▁▁▁▁▁▁▁▁▁▁▁▁▁▁▁▁▁▁▁▁▁▁▁▁▁▁▁▁▁▁▁▁▁▁▁</td></tr><tr><td>wd_2</td><td>▁▁▁▁▁▁▁▁▁▁▁▁▁▁▁▁▁▁▁▁▁▁▁▁▁▁▁▁▁▁▁▁▁▁▁▁▁▁▁▁</td></tr></table><br/></div><div class=\"wandb-col\"><h3>Run summary:</h3><br/><table class=\"wandb\"><tr><td>background_iou</td><td>0.91242</td></tr><tr><td>bicycle_iou</td><td>0.0</td></tr><tr><td>epoch</td><td>10</td></tr><tr><td>eps_0</td><td>1e-05</td></tr><tr><td>eps_1</td><td>1e-05</td></tr><tr><td>eps_2</td><td>1e-05</td></tr><tr><td>final_background_iou</td><td>0.91215</td></tr><tr><td>final_bicycle_iou</td><td>0.0</td></tr><tr><td>final_loss</td><td>0.24475</td></tr><tr><td>final_miou</td><td>0.36715</td></tr><tr><td>final_person_iou</td><td>0.0</td></tr><tr><td>final_road_iou</td><td>0.82566</td></tr><tr><td>final_traffic_light_iou</td><td>0.07574</td></tr><tr><td>final_traffic_sign_iou</td><td>0.0</td></tr><tr><td>final_vehicle_iou</td><td>0.75652</td></tr><tr><td>lr_0</td><td>0.0</td></tr><tr><td>lr_1</td><td>0.0</td></tr><tr><td>lr_2</td><td>0.0</td></tr><tr><td>miou</td><td>0.36523</td></tr><tr><td>mom_0</td><td>0.95</td></tr><tr><td>mom_1</td><td>0.95</td></tr><tr><td>mom_2</td><td>0.95</td></tr><tr><td>person_iou</td><td>0.0</td></tr><tr><td>raw_loss</td><td>0.23046</td></tr><tr><td>road_iou</td><td>0.82637</td></tr><tr><td>sqr_mom_0</td><td>0.99</td></tr><tr><td>sqr_mom_1</td><td>0.99</td></tr><tr><td>sqr_mom_2</td><td>0.99</td></tr><tr><td>traffic_light_iou</td><td>0.06361</td></tr><tr><td>traffic_sign_iou</td><td>0.0</td></tr><tr><td>train_loss</td><td>0.17931</td></tr><tr><td>train_samples_per_sec</td><td>24.3538</td></tr><tr><td>valid_loss</td><td>0.24374</td></tr><tr><td>vehicle_iou</td><td>0.75421</td></tr><tr><td>wd_0</td><td>0.01</td></tr><tr><td>wd_1</td><td>0.01</td></tr><tr><td>wd_2</td><td>0.01</td></tr></table><br/></div></div>"
            ]
          },
          "metadata": {}
        },
        {
          "output_type": "display_data",
          "data": {
            "text/plain": [
              "<IPython.core.display.HTML object>"
            ],
            "text/html": [
              " View run <strong style=\"color:#cdcd00\">clean-frog-5</strong> at: <a href='https://wandb.ai/abdussamad/MLOps/runs/dsj7335x' target=\"_blank\">https://wandb.ai/abdussamad/MLOps/runs/dsj7335x</a><br/> View job at <a href='https://wandb.ai/abdussamad/MLOps/jobs/QXJ0aWZhY3RDb2xsZWN0aW9uOjg3NjYzMTgw/version_details/v0' target=\"_blank\">https://wandb.ai/abdussamad/MLOps/jobs/QXJ0aWZhY3RDb2xsZWN0aW9uOjg3NjYzMTgw/version_details/v0</a><br/>Synced 5 W&B file(s), 1 media file(s), 319 artifact file(s) and 1 other file(s)"
            ]
          },
          "metadata": {}
        },
        {
          "output_type": "display_data",
          "data": {
            "text/plain": [
              "<IPython.core.display.HTML object>"
            ],
            "text/html": [
              "Find logs at: <code>./wandb/run-20230803_143654-dsj7335x/logs</code>"
            ]
          },
          "metadata": {}
        }
      ]
    },
    {
      "cell_type": "code",
      "source": [],
      "metadata": {
        "id": "-jz3WTYAHhw3"
      },
      "id": "-jz3WTYAHhw3",
      "execution_count": null,
      "outputs": []
    }
  ],
  "metadata": {
    "kernelspec": {
      "display_name": "Python 3",
      "name": "python3"
    },
    "language_info": {
      "name": "python",
      "version": "3.10.6 (main, Aug 30 2022, 04:58:14) [Clang 13.1.6 (clang-1316.0.21.2.5)]"
    },
    "vscode": {
      "interpreter": {
        "hash": "b0fa6594d8f4cbf19f97940f81e996739fb7646882a419484c72d19e05852a7e"
      }
    },
    "colab": {
      "provenance": [],
      "gpuType": "T4",
      "include_colab_link": true
    },
    "widgets": {
      "application/vnd.jupyter.widget-state+json": {
        "9b9b781657a94beaae54ce4c71c013af": {
          "model_module": "@jupyter-widgets/controls",
          "model_name": "VBoxModel",
          "model_module_version": "1.5.0",
          "state": {
            "_dom_classes": [],
            "_model_module": "@jupyter-widgets/controls",
            "_model_module_version": "1.5.0",
            "_model_name": "VBoxModel",
            "_view_count": null,
            "_view_module": "@jupyter-widgets/controls",
            "_view_module_version": "1.5.0",
            "_view_name": "VBoxView",
            "box_style": "",
            "children": [
              "IPY_MODEL_76ddb75a8fb14d4d85a43a065b806a44",
              "IPY_MODEL_c9d95f9a6ad14b8e8762e969851952a8"
            ],
            "layout": "IPY_MODEL_9373e63621344dea911bf56acde2abce"
          }
        },
        "76ddb75a8fb14d4d85a43a065b806a44": {
          "model_module": "@jupyter-widgets/controls",
          "model_name": "LabelModel",
          "model_module_version": "1.5.0",
          "state": {
            "_dom_classes": [],
            "_model_module": "@jupyter-widgets/controls",
            "_model_module_version": "1.5.0",
            "_model_name": "LabelModel",
            "_view_count": null,
            "_view_module": "@jupyter-widgets/controls",
            "_view_module_version": "1.5.0",
            "_view_name": "LabelView",
            "description": "",
            "description_tooltip": null,
            "layout": "IPY_MODEL_c44699d6266c4ab7a07b2c39d07b393e",
            "placeholder": "​",
            "style": "IPY_MODEL_8ec72c704c924cf9aa519ad9c497a7e5",
            "value": "131.756 MB of 131.756 MB uploaded (0.000 MB deduped)\r"
          }
        },
        "c9d95f9a6ad14b8e8762e969851952a8": {
          "model_module": "@jupyter-widgets/controls",
          "model_name": "FloatProgressModel",
          "model_module_version": "1.5.0",
          "state": {
            "_dom_classes": [],
            "_model_module": "@jupyter-widgets/controls",
            "_model_module_version": "1.5.0",
            "_model_name": "FloatProgressModel",
            "_view_count": null,
            "_view_module": "@jupyter-widgets/controls",
            "_view_module_version": "1.5.0",
            "_view_name": "ProgressView",
            "bar_style": "",
            "description": "",
            "description_tooltip": null,
            "layout": "IPY_MODEL_cd98862406084ca2b8c8d1fc00175e10",
            "max": 1,
            "min": 0,
            "orientation": "horizontal",
            "style": "IPY_MODEL_a405c2f970d344d5a12a2994791bca9e",
            "value": 1
          }
        },
        "9373e63621344dea911bf56acde2abce": {
          "model_module": "@jupyter-widgets/base",
          "model_name": "LayoutModel",
          "model_module_version": "1.2.0",
          "state": {
            "_model_module": "@jupyter-widgets/base",
            "_model_module_version": "1.2.0",
            "_model_name": "LayoutModel",
            "_view_count": null,
            "_view_module": "@jupyter-widgets/base",
            "_view_module_version": "1.2.0",
            "_view_name": "LayoutView",
            "align_content": null,
            "align_items": null,
            "align_self": null,
            "border": null,
            "bottom": null,
            "display": null,
            "flex": null,
            "flex_flow": null,
            "grid_area": null,
            "grid_auto_columns": null,
            "grid_auto_flow": null,
            "grid_auto_rows": null,
            "grid_column": null,
            "grid_gap": null,
            "grid_row": null,
            "grid_template_areas": null,
            "grid_template_columns": null,
            "grid_template_rows": null,
            "height": null,
            "justify_content": null,
            "justify_items": null,
            "left": null,
            "margin": null,
            "max_height": null,
            "max_width": null,
            "min_height": null,
            "min_width": null,
            "object_fit": null,
            "object_position": null,
            "order": null,
            "overflow": null,
            "overflow_x": null,
            "overflow_y": null,
            "padding": null,
            "right": null,
            "top": null,
            "visibility": null,
            "width": null
          }
        },
        "c44699d6266c4ab7a07b2c39d07b393e": {
          "model_module": "@jupyter-widgets/base",
          "model_name": "LayoutModel",
          "model_module_version": "1.2.0",
          "state": {
            "_model_module": "@jupyter-widgets/base",
            "_model_module_version": "1.2.0",
            "_model_name": "LayoutModel",
            "_view_count": null,
            "_view_module": "@jupyter-widgets/base",
            "_view_module_version": "1.2.0",
            "_view_name": "LayoutView",
            "align_content": null,
            "align_items": null,
            "align_self": null,
            "border": null,
            "bottom": null,
            "display": null,
            "flex": null,
            "flex_flow": null,
            "grid_area": null,
            "grid_auto_columns": null,
            "grid_auto_flow": null,
            "grid_auto_rows": null,
            "grid_column": null,
            "grid_gap": null,
            "grid_row": null,
            "grid_template_areas": null,
            "grid_template_columns": null,
            "grid_template_rows": null,
            "height": null,
            "justify_content": null,
            "justify_items": null,
            "left": null,
            "margin": null,
            "max_height": null,
            "max_width": null,
            "min_height": null,
            "min_width": null,
            "object_fit": null,
            "object_position": null,
            "order": null,
            "overflow": null,
            "overflow_x": null,
            "overflow_y": null,
            "padding": null,
            "right": null,
            "top": null,
            "visibility": null,
            "width": null
          }
        },
        "8ec72c704c924cf9aa519ad9c497a7e5": {
          "model_module": "@jupyter-widgets/controls",
          "model_name": "DescriptionStyleModel",
          "model_module_version": "1.5.0",
          "state": {
            "_model_module": "@jupyter-widgets/controls",
            "_model_module_version": "1.5.0",
            "_model_name": "DescriptionStyleModel",
            "_view_count": null,
            "_view_module": "@jupyter-widgets/base",
            "_view_module_version": "1.2.0",
            "_view_name": "StyleView",
            "description_width": ""
          }
        },
        "cd98862406084ca2b8c8d1fc00175e10": {
          "model_module": "@jupyter-widgets/base",
          "model_name": "LayoutModel",
          "model_module_version": "1.2.0",
          "state": {
            "_model_module": "@jupyter-widgets/base",
            "_model_module_version": "1.2.0",
            "_model_name": "LayoutModel",
            "_view_count": null,
            "_view_module": "@jupyter-widgets/base",
            "_view_module_version": "1.2.0",
            "_view_name": "LayoutView",
            "align_content": null,
            "align_items": null,
            "align_self": null,
            "border": null,
            "bottom": null,
            "display": null,
            "flex": null,
            "flex_flow": null,
            "grid_area": null,
            "grid_auto_columns": null,
            "grid_auto_flow": null,
            "grid_auto_rows": null,
            "grid_column": null,
            "grid_gap": null,
            "grid_row": null,
            "grid_template_areas": null,
            "grid_template_columns": null,
            "grid_template_rows": null,
            "height": null,
            "justify_content": null,
            "justify_items": null,
            "left": null,
            "margin": null,
            "max_height": null,
            "max_width": null,
            "min_height": null,
            "min_width": null,
            "object_fit": null,
            "object_position": null,
            "order": null,
            "overflow": null,
            "overflow_x": null,
            "overflow_y": null,
            "padding": null,
            "right": null,
            "top": null,
            "visibility": null,
            "width": null
          }
        },
        "a405c2f970d344d5a12a2994791bca9e": {
          "model_module": "@jupyter-widgets/controls",
          "model_name": "ProgressStyleModel",
          "model_module_version": "1.5.0",
          "state": {
            "_model_module": "@jupyter-widgets/controls",
            "_model_module_version": "1.5.0",
            "_model_name": "ProgressStyleModel",
            "_view_count": null,
            "_view_module": "@jupyter-widgets/base",
            "_view_module_version": "1.2.0",
            "_view_name": "StyleView",
            "bar_color": null,
            "description_width": ""
          }
        }
      }
    },
    "accelerator": "GPU"
  },
  "nbformat": 4,
  "nbformat_minor": 5
}